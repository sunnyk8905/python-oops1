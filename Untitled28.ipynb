{
 "cells": [
  {
   "cell_type": "code",
   "execution_count": null,
   "id": "50102684-7bd5-4e50-9ba9-664686b8d94f",
   "metadata": {},
   "outputs": [],
   "source": [
    "Q1. Explain Class and Object with respect to Object-Oriented Programming. Give a suitable example."
   ]
  },
  {
   "cell_type": "code",
   "execution_count": null,
   "id": "7d96524e-a44a-41fe-bc92-961ff77a7265",
   "metadata": {},
   "outputs": [],
   "source": [
    " a class is a blueprint or a template that defines the structure and behavior of objects. It encapsulates data (attributes) and operations (methods) that are common to a group of objects with similar characteristics. A class acts as a blueprint for creating multiple instances of objects with the same structure and behavior.\n",
    "\n",
    "An object, on the other hand, is an instance of a class. It represents a specific entity or concept that can have its own unique state and behavior. An object is created based on the defined structure and behavior specified by its class"
   ]
  },
  {
   "cell_type": "code",
   "execution_count": null,
   "id": "a6f51f03-fd80-4305-90af-dea0aa998e65",
   "metadata": {},
   "outputs": [],
   "source": [
    "class Car:\n",
    "    def __init__(self, make, model, year):\n",
    "        self.make = make\n",
    "        self.model = model\n",
    "        self.year = year\n",
    "\n",
    "    def start_engine(self):\n",
    "        print(f\"The {self.make} {self.model}'s engine has started.\")\n",
    "\n",
    "    def stop_engine(self):\n",
    "        print(f\"The {self.make} {self.model}'s engine has stopped.\")\n",
    "\n",
    "\n",
    "# Creating objects (instances) of the Car class\n",
    "car1 = Car(\"Toyota\", \"Camry\", 2022)\n",
    "car2 = Car(\"Honda\", \"Accord\", 2021)\n",
    "\n",
    "# Accessing object attributes\n",
    "print(car1.make)  # Output: Toyota\n",
    "print(car2.model)  # Output: Accord\n",
    "\n",
    "# Calling object methods\n",
    "car1.start_engine()  # Output: The Toyota Camry's engine has started.\n",
    "car2.stop_engine()  # Output: The Honda Accord's engine has stopped.\n"
   ]
  },
  {
   "cell_type": "code",
   "execution_count": null,
   "id": "f7029478-98bc-47f2-a58d-7b4158be85eb",
   "metadata": {},
   "outputs": [],
   "source": [
    "Q2. Name the four pillars of OOPs."
   ]
  },
  {
   "cell_type": "code",
   "execution_count": null,
   "id": "521713f8-a345-41f2-895a-f3d659df3e7a",
   "metadata": {},
   "outputs": [],
   "source": [
    "Encapsulation ,Abstraction,Inheritance,Polymorphism."
   ]
  },
  {
   "cell_type": "code",
   "execution_count": null,
   "id": "e6485cb4-c936-4808-83bb-908cb44956b8",
   "metadata": {},
   "outputs": [],
   "source": [
    "Q3. Explain why the __init__() function is used. Give a suitable example."
   ]
  },
  {
   "cell_type": "code",
   "execution_count": null,
   "id": "e74ac7e3-3260-402a-9722-7330e79d47bd",
   "metadata": {},
   "outputs": [],
   "source": [
    "The primary purpose of the __init__() function is to set up the initial state of an object by assigning values to its attributes. It allows you to define the default values or accept parameters that are necessary for creating an object with specific initial attributes."
   ]
  },
  {
   "cell_type": "code",
   "execution_count": null,
   "id": "b54717e7-3044-4cd8-9b09-37f728d79e49",
   "metadata": {},
   "outputs": [],
   "source": [
    "class Person:\n",
    "    def __init__(self, name, age):\n",
    "        self.name = name\n",
    "        self.age = age\n",
    "\n",
    "    def introduce(self):\n",
    "        print(f\"My name is {self.name} and I am {self.age} years old.\")\n",
    "\n",
    "\n",
    "person = Person(\"John\", 25)\n",
    "person.introduce()  # Output: My name is John and I am 25 years old.\n"
   ]
  },
  {
   "cell_type": "code",
   "execution_count": null,
   "id": "a5fdae76-81b1-49d6-b4fb-74bd9892d776",
   "metadata": {},
   "outputs": [],
   "source": [
    "Q4. Why self is used in OOPs?"
   ]
  },
  {
   "cell_type": "code",
   "execution_count": null,
   "id": "700bf22f-41a4-4ec4-8d54-f0c592459f17",
   "metadata": {},
   "outputs": [],
   "source": [
    "In object-oriented programming (OOP), self is a conventional name for the first parameter of a method in a class. It is a reference to the instance of the class on which the method is being called. The purpose of self is to access and manipulate the attributes and methods of the instance within the class definition."
   ]
  },
  {
   "cell_type": "code",
   "execution_count": null,
   "id": "d55d94ba-0da6-48c5-b677-b024e46bd60a",
   "metadata": {},
   "outputs": [],
   "source": [
    "Q5. What is inheritance? Give an example for each type of inheritance."
   ]
  },
  {
   "cell_type": "code",
   "execution_count": null,
   "id": "92ac119d-3333-4dc9-a920-89a3ede243e0",
   "metadata": {},
   "outputs": [],
   "source": [
    "The technique of creating a new class from an existing class is called inheritance."
   ]
  },
  {
   "cell_type": "code",
   "execution_count": null,
   "id": "8d2da271-6940-4c7c-9ad7-772f51351d44",
   "metadata": {},
   "outputs": [],
   "source": [
    "Single Inheritance"
   ]
  },
  {
   "cell_type": "code",
   "execution_count": null,
   "id": "c7210422-852a-46eb-9065-f786895d877e",
   "metadata": {},
   "outputs": [],
   "source": [
    "class Animal:\n",
    "    def sound(self):\n",
    "        print(\"Animal makes a sound.\")\n",
    "\n",
    "class Dog(Animal):\n",
    "    def bark(self):\n",
    "        print(\"Dog barks.\")\n",
    "\n",
    "dog = Dog()\n",
    "dog.sound()  # Output: Animal makes a sound.\n",
    "dog.bark()  # Output: Dog barks.\n"
   ]
  },
  {
   "cell_type": "code",
   "execution_count": null,
   "id": "68478395-fee1-4d4f-bae9-565a121429cf",
   "metadata": {},
   "outputs": [],
   "source": [
    "Multiple Inheritance"
   ]
  },
  {
   "cell_type": "code",
   "execution_count": null,
   "id": "a17fbd07-25de-4c82-8490-5035f4408b64",
   "metadata": {},
   "outputs": [],
   "source": [
    "class Flyable:\n",
    "    def fly(self):\n",
    "        print(\"Can fly.\")\n",
    "\n",
    "class Swimmable:\n",
    "    def swim(self):\n",
    "        print(\"Can swim.\")\n",
    "\n",
    "class Duck(Flyable, Swimmable):\n",
    "    pass\n",
    "\n",
    "duck = Duck()\n",
    "duck.fly()  # Output: Can fly.\n",
    "duck.swim()  # Output: Can swim.\n"
   ]
  },
  {
   "cell_type": "code",
   "execution_count": null,
   "id": "1b979735-9eeb-494f-b0cb-89c0f2a22899",
   "metadata": {},
   "outputs": [],
   "source": []
  }
 ],
 "metadata": {
  "kernelspec": {
   "display_name": "Python 3 (ipykernel)",
   "language": "python",
   "name": "python3"
  },
  "language_info": {
   "codemirror_mode": {
    "name": "ipython",
    "version": 3
   },
   "file_extension": ".py",
   "mimetype": "text/x-python",
   "name": "python",
   "nbconvert_exporter": "python",
   "pygments_lexer": "ipython3",
   "version": "3.10.8"
  }
 },
 "nbformat": 4,
 "nbformat_minor": 5
}
